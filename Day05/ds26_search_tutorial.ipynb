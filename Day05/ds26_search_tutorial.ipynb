{
 "cells": [
  {
   "attachments": {},
   "cell_type": "markdown",
   "metadata": {},
   "source": [
    "#### 이진검색"
   ]
  },
  {
   "cell_type": "code",
   "execution_count": 2,
   "metadata": {},
   "outputs": [],
   "source": [
    "def binSearch(ary, fData) :\n",
    "    pos = -1\n",
    "    start = 0\n",
    "    end = len(ary) - 1\n",
    "\n",
    "    while(start <= end) :\n",
    "        mid = (start + end) // 2 \n",
    "        if fData == ary[mid] :\n",
    "            return mid\n",
    "        elif fData > ary[mid] :\n",
    "            start = mid + 1 \n",
    "        else :\n",
    "            end = mid - 1\n",
    "\n",
    "    return pos\n",
    "    "
   ]
  },
  {
   "cell_type": "code",
   "execution_count": 3,
   "metadata": {},
   "outputs": [
    {
     "name": "stdout",
     "output_type": "stream",
     "text": [
      "[50, 60, 105, 120, 150, 160, 162, 168, 177, 188]\n",
      "6\n"
     ]
    }
   ],
   "source": [
    "dataAry = [50, 60, 105, 120, 150, 160, 162, 168, 177, 188]\n",
    "finData = 162\n",
    "\n",
    "print(dataAry)\n",
    "position = binSearch(dataAry,finData)\n",
    "if position == -1 :\n",
    "    print(\"Not find\")\n",
    "else :\n",
    "    print(position)    "
   ]
  }
 ],
 "metadata": {
  "kernelspec": {
   "display_name": "Python 3",
   "language": "python",
   "name": "python3"
  },
  "language_info": {
   "codemirror_mode": {
    "name": "ipython",
    "version": 3
   },
   "file_extension": ".py",
   "mimetype": "text/x-python",
   "name": "python",
   "nbconvert_exporter": "python",
   "pygments_lexer": "ipython3",
   "version": "3.11.1"
  },
  "orig_nbformat": 4,
  "vscode": {
   "interpreter": {
    "hash": "a3d8f53f1429d27b792a3789224562ddd32c1395c9a9cfbb17b3c19c3b9a493d"
   }
  }
 },
 "nbformat": 4,
 "nbformat_minor": 2
}
