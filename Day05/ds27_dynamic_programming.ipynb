{
 "cells": [
  {
   "attachments": {},
   "cell_type": "markdown",
   "metadata": {},
   "source": [
    "#### 동적 프로그래밍"
   ]
  },
  {
   "cell_type": "code",
   "execution_count": 4,
   "metadata": {},
   "outputs": [],
   "source": [
    "max_weight = 7\n",
    "rowCount = 4\n",
    "weight = [0, 6, 4, 3, 5]\n",
    "money = [0, 13, 8, 6, 12]\n",
    "\n",
    "def knapsack() :\n",
    "    print(\"## Memoization List ##\")\n",
    "    array = [[0 for _ in range(max_weight+1)] for _ in range(rowCount+1)]\n",
    "    \n",
    "    for row in range(1,rowCount+1) :\n",
    "        for col in range(1, max_weight+1) :\n",
    "            if weight[row] > col : # 물건의 무게가 열보다 크면/가방에 안들어가면\n",
    "                array[row][col] = array[row-1][col] \n",
    "            else : # 물건무게가 작으면\n",
    "                value1 = money[row] + array[row-1][col-weight[row]]\n",
    "                value2 = array[row-1][col]\n",
    "                array[row][col] = max(value1, value2)\n",
    "            print(f\"{array[row][col]}\",end=\" \")\n",
    "        print()\n",
    "\n",
    "    return array[rowCount][max_weight]"
   ]
  },
  {
   "cell_type": "code",
   "execution_count": 5,
   "metadata": {},
   "outputs": [
    {
     "name": "stdout",
     "output_type": "stream",
     "text": [
      "## Memoization List ##\n",
      "0 0 0 0 0 13 13 \n",
      "0 0 0 8 8 13 13 \n",
      "0 0 6 8 8 13 14 \n",
      "0 0 6 8 12 13 14 \n"
     ]
    },
    {
     "data": {
      "text/plain": [
       "14"
      ]
     },
     "execution_count": 5,
     "metadata": {},
     "output_type": "execute_result"
    }
   ],
   "source": [
    "knapsack()"
   ]
  },
  {
   "attachments": {},
   "cell_type": "markdown",
   "metadata": {},
   "source": [
    "#### 피보나치 수열"
   ]
  },
  {
   "cell_type": "code",
   "execution_count": 6,
   "metadata": {},
   "outputs": [],
   "source": [
    "d = [0] * 100\n",
    "\n",
    "def fibonacci(n) :\n",
    "    if n <=2 : return 1  \n",
    "    if d[n] != 0 : return d[n]\n",
    "\n",
    "    d[n] = fibonacci(n-1) + fibonacci(n-2)\n",
    "    \n",
    "    return d[n]"
   ]
  },
  {
   "cell_type": "code",
   "execution_count": 7,
   "metadata": {},
   "outputs": [
    {
     "name": "stdout",
     "output_type": "stream",
     "text": [
      "1\n",
      "2\n",
      "3\n",
      "5\n",
      "8\n",
      "13\n",
      "21\n",
      "34\n",
      "55\n",
      "89\n",
      "144\n",
      "233\n",
      "377\n",
      "610\n",
      "987\n",
      "1597\n",
      "2584\n",
      "4181\n",
      "6765\n",
      "10946\n",
      "17711\n",
      "28657\n",
      "46368\n",
      "75025\n",
      "121393\n",
      "196418\n",
      "317811\n",
      "514229\n",
      "832040\n",
      "1346269\n",
      "2178309\n",
      "3524578\n",
      "5702887\n",
      "9227465\n",
      "14930352\n",
      "24157817\n"
     ]
    }
   ],
   "source": [
    "for i in range(2,38) :\n",
    "    print(fibonacci(i))"
   ]
  }
 ],
 "metadata": {
  "kernelspec": {
   "display_name": "Python 3",
   "language": "python",
   "name": "python3"
  },
  "language_info": {
   "codemirror_mode": {
    "name": "ipython",
    "version": 3
   },
   "file_extension": ".py",
   "mimetype": "text/x-python",
   "name": "python",
   "nbconvert_exporter": "python",
   "pygments_lexer": "ipython3",
   "version": "3.11.1"
  },
  "orig_nbformat": 4,
  "vscode": {
   "interpreter": {
    "hash": "a3d8f53f1429d27b792a3789224562ddd32c1395c9a9cfbb17b3c19c3b9a493d"
   }
  }
 },
 "nbformat": 4,
 "nbformat_minor": 2
}
