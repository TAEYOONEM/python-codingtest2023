{
 "cells": [
  {
   "attachments": {},
   "cell_type": "markdown",
   "metadata": {},
   "source": [
    "### 선택정렬"
   ]
  },
  {
   "attachments": {},
   "cell_type": "markdown",
   "metadata": {},
   "source": [
    "#### 최고값 위치 확인 함수"
   ]
  },
  {
   "cell_type": "code",
   "execution_count": 28,
   "metadata": {},
   "outputs": [],
   "source": [
    "def findMinIdx(ary) :\n",
    "    minIdx = 0\n",
    "    for i in range(1, len(ary)) :\n",
    "        if ary[minIdx] > ary[i] :\n",
    "            minIdx = i \n",
    "    return minIdx    "
   ]
  },
  {
   "cell_type": "code",
   "execution_count": 29,
   "metadata": {},
   "outputs": [
    {
     "name": "stdout",
     "output_type": "stream",
     "text": [
      "2\n"
     ]
    }
   ],
   "source": [
    "tests = [55, 88, 33, 77]\n",
    "print(findMinIdx(tests))"
   ]
  },
  {
   "attachments": {},
   "cell_type": "markdown",
   "metadata": {},
   "source": [
    "#### 선택정렬 구현"
   ]
  },
  {
   "cell_type": "code",
   "execution_count": 30,
   "metadata": {},
   "outputs": [
    {
     "name": "stdout",
     "output_type": "stream",
     "text": [
      "Before Sorting : [188, 162, 168, 120, 50, 150, 177, 105]\n",
      "After Sorting : [50, 105, 120, 150, 162, 168, 177, 188]\n"
     ]
    }
   ],
   "source": [
    "# 변수선언\n",
    "before = [188, 162, 168, 120, 50, 150, 177, 105]\n",
    "after = []\n",
    "\n",
    "print(f\"Before Sorting : {before}\")\n",
    "for _ in range(len(before)) :\n",
    "    minPos = findMinIdx(before)\n",
    "    after.append(before[minPos])\n",
    "    del(before[minPos])\n",
    "\n",
    "print(f\"After Sorting : {after}\")\n"
   ]
  },
  {
   "attachments": {},
   "cell_type": "markdown",
   "metadata": {},
   "source": [
    "#### 개선된 선택정렬\n",
    "\n",
    "배열을 두개 만들 필요 없음, 값 교환 swap"
   ]
  },
  {
   "cell_type": "code",
   "execution_count": 31,
   "metadata": {},
   "outputs": [
    {
     "name": "stdout",
     "output_type": "stream",
     "text": [
      "Before Sorting : [188, 162, 168, 120, 20, 150, 177, 105]\n",
      "After Sorting : [20, 105, 120, 150, 162, 168, 177, 188]\n"
     ]
    }
   ],
   "source": [
    "def selectionSort(ary) :\n",
    "    n = len(ary) \n",
    "    for i in range(0,n-1) :\n",
    "        minIdx = i\n",
    "        for k in range(i+1,n) :\n",
    "            if ary[minIdx] > ary[k] :\n",
    "                minIdx = k\n",
    "        # tmp = ary[i]\n",
    "        # ary[i] = ary[minIdx]\n",
    "        # ary[minIdx] = tmp\n",
    "        ary[i], ary[minIdx] = ary[minIdx],ary[i]\n",
    "        \n",
    "    return ary\n",
    "\n",
    "dataAry = [188, 162, 168, 120, 20, 150, 177, 105]\n",
    "print(f\"Before Sorting : {dataAry}\")\n",
    "print(f\"After Sorting : {selectionSort(dataAry)}\")\n"
   ]
  },
  {
   "attachments": {},
   "cell_type": "markdown",
   "metadata": {},
   "source": [
    "### 삽입정렬 Insertion Sort\n",
    "\n",
    "자신의 삽입위치를 찾는 함수"
   ]
  },
  {
   "cell_type": "code",
   "execution_count": 32,
   "metadata": {},
   "outputs": [],
   "source": [
    "def findInsertIdx(ary,data) :\n",
    "    findIdx = -1\n",
    "    for i in range(0, len(ary)) :\n",
    "        if ary[i] > data :\n",
    "            findIdx = i\n",
    "            break\n",
    "    if findIdx == -1 :\n",
    "        return len(ary)\n",
    "    else :\n",
    "        return findIdx"
   ]
  },
  {
   "cell_type": "code",
   "execution_count": 33,
   "metadata": {},
   "outputs": [
    {
     "name": "stdout",
     "output_type": "stream",
     "text": [
      "50's position is 0\n",
      "55's position is 1\n"
     ]
    }
   ],
   "source": [
    "testAry = []\n",
    "value = 50\n",
    "print(f\"{value}'s position is {findInsertIdx(testAry,50)}\")\n",
    "testAry = [33, 77, 88]\n",
    "value =55\n",
    "print(f\"{value}'s position is {findInsertIdx(testAry,50)}\")"
   ]
  },
  {
   "cell_type": "code",
   "execution_count": 34,
   "metadata": {},
   "outputs": [
    {
     "name": "stdout",
     "output_type": "stream",
     "text": [
      "Before Sorting : [188, 162, 168, 120, 50, 150, 177, 105]\n",
      "After Sorting : [50, 105, 120, 150, 162, 168, 177, 188]\n"
     ]
    }
   ],
   "source": [
    "before = [188, 162, 168, 120, 50, 150, 177, 105]\n",
    "after = []\n",
    "\n",
    "print(f\"Before Sorting : {before}\")\n",
    "for i in range(len(before)) :\n",
    "    after.insert(findInsertIdx(after,before[i]),before[i])\n",
    "\n",
    "print(f\"After Sorting : {after}\")"
   ]
  },
  {
   "attachments": {},
   "cell_type": "markdown",
   "metadata": {},
   "source": [
    "### 삽입정렬 개선"
   ]
  },
  {
   "cell_type": "code",
   "execution_count": 35,
   "metadata": {},
   "outputs": [],
   "source": [
    "def insertionSort(ary) :\n",
    "    n = len(ary)\n",
    "    for end in range(1,n) :\n",
    "        for cur in range(end,0,-1) :\n",
    "            if ary[cur-1] > ary[cur] :\n",
    "                # temp = ary[cur-1]\n",
    "                # ary[cur-1] = ary[cur]\n",
    "                # ary[cur] = temp\n",
    "                ary[cur-1],ary[cur] = ary[cur] , ary[cur-1]\n",
    "    return ary "
   ]
  },
  {
   "cell_type": "code",
   "execution_count": 36,
   "metadata": {},
   "outputs": [
    {
     "name": "stdout",
     "output_type": "stream",
     "text": [
      "Before Sorting : [188, 162, 168, 120, 20, 150, 177, 105]\n",
      "After Sorting : [20, 105, 120, 150, 162, 168, 177, 188]\n"
     ]
    }
   ],
   "source": [
    "dataAry = [188, 162, 168, 120, 20, 150, 177, 105]\n",
    "print(f\"Before Sorting : {dataAry}\")\n",
    "print(f\"After Sorting : {insertionSort(dataAry)}\")"
   ]
  },
  {
   "attachments": {},
   "cell_type": "markdown",
   "metadata": {},
   "source": [
    "#### 버블정렬(Bubble Sort)"
   ]
  },
  {
   "cell_type": "code",
   "execution_count": 37,
   "metadata": {},
   "outputs": [
    {
     "name": "stdout",
     "output_type": "stream",
     "text": [
      "Before Sorting : [188, 162, 168, 120, 20, 150, 177, 105]\n",
      "After Sorting : [20, 105, 120, 150, 162, 168, 177, 188]\n"
     ]
    }
   ],
   "source": [
    "def BubbleSort(ary) :   \n",
    "    n = len(ary)\n",
    "    for end in range(n-1, 0, -1) :\n",
    "        for cur in range(0, end) :\n",
    "            if ary[cur] > ary[cur+1] :\n",
    "                  ary[cur], ary[cur+1] = ary[cur+1], ary[cur]\n",
    "    return ary\n",
    "\n",
    "dataAry = [188, 162, 168, 120, 20, 150, 177, 105]\n",
    "print(f\"Before Sorting : {dataAry}\")\n",
    "print(f\"After Sorting : {BubbleSort(dataAry)}\")"
   ]
  },
  {
   "attachments": {},
   "cell_type": "markdown",
   "metadata": {},
   "source": [
    "#### 퀵정렬(Quick Sort)"
   ]
  },
  {
   "cell_type": "code",
   "execution_count": 41,
   "metadata": {},
   "outputs": [
    {
     "name": "stdout",
     "output_type": "stream",
     "text": [
      "Before Sorting : [188, 162, 168, 120, 20, 150, 177, 105, 120]\n",
      "After Sorting : [20, 105, 120, 120, 150, 162, 168, 177, 188]\n"
     ]
    }
   ],
   "source": [
    "def quickSort(ary) :\n",
    "    n = len(ary)\n",
    "    if n <= 1 :\n",
    "        return ary\n",
    "    \n",
    "    pivot = ary[n//2] # 중앙값\n",
    "    leftAry, rightAry, midAry = [], [], []\n",
    "    \n",
    "    for num in ary :\n",
    "        if num < pivot :\n",
    "            leftAry.append(num)\n",
    "        elif num > pivot :\n",
    "            rightAry.append(num) \n",
    "        else :\n",
    "            midAry.append(num)\n",
    "\n",
    "    return quickSort(leftAry) + midAry + quickSort(rightAry)\n",
    "\n",
    "dataAry = [188, 162, 168, 120, 20, 150, 177, 105,120]\n",
    "print(f\"Before Sorting : {dataAry}\")\n",
    "print(f\"After Sorting : {quickSort(dataAry)}\")"
   ]
  },
  {
   "cell_type": "code",
   "execution_count": 2,
   "metadata": {},
   "outputs": [],
   "source": [
    "import random\n",
    "databank = []\n",
    "\n",
    "for i in range(0,10000) :\n",
    "    databank.append(random.randint(0,10000))"
   ]
  },
  {
   "cell_type": "code",
   "execution_count": 3,
   "metadata": {},
   "outputs": [],
   "source": [
    "databank.sort()\n",
    "databank.sort(reverse=True)"
   ]
  },
  {
   "cell_type": "code",
   "execution_count": 4,
   "metadata": {},
   "outputs": [],
   "source": [
    "values = sorted(databank, reverse=False)"
   ]
  }
 ],
 "metadata": {
  "kernelspec": {
   "display_name": "Python 3",
   "language": "python",
   "name": "python3"
  },
  "language_info": {
   "codemirror_mode": {
    "name": "ipython",
    "version": 3
   },
   "file_extension": ".py",
   "mimetype": "text/x-python",
   "name": "python",
   "nbconvert_exporter": "python",
   "pygments_lexer": "ipython3",
   "version": "3.11.1"
  },
  "orig_nbformat": 4,
  "vscode": {
   "interpreter": {
    "hash": "a3d8f53f1429d27b792a3789224562ddd32c1395c9a9cfbb17b3c19c3b9a493d"
   }
  }
 },
 "nbformat": 4,
 "nbformat_minor": 2
}
