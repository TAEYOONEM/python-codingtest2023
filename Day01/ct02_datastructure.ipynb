{
 "cells": [
  {
   "attachments": {},
   "cell_type": "markdown",
   "metadata": {},
   "source": [
    "# 자료구조\n",
    "숫자의 합 - 백준 11720"
   ]
  },
  {
   "cell_type": "code",
   "execution_count": 3,
   "metadata": {},
   "outputs": [
    {
     "name": "stdout",
     "output_type": "stream",
     "text": [
      "3\n"
     ]
    }
   ],
   "source": [
    "n = int(input())\n",
    "numbers = list(map(int,input()))\n",
    "sum = 0\n",
    "for i in range(n) :\n",
    "    sum += numbers[i]\n",
    "\n",
    "print(sum)"
   ]
  },
  {
   "attachments": {},
   "cell_type": "markdown",
   "metadata": {},
   "source": [
    "평균 구하기 - 백준 1546"
   ]
  },
  {
   "cell_type": "code",
   "execution_count": 3,
   "metadata": {},
   "outputs": [
    {
     "name": "stdout",
     "output_type": "stream",
     "text": [
      "75.0\n"
     ]
    }
   ],
   "source": [
    "n = int(input())\n",
    "numbers = list(map(int,input().split()))\n",
    "# max_num = 0\n",
    "# sum_num = 0\n",
    "# for i in numbers :\n",
    "#     if max < i :\n",
    "#         max = i\n",
    "max_num = max(numbers)\n",
    "numbers = [i/max_num * 100 for i in numbers]\n",
    "# for i in numbers :\n",
    "#     sum_num += i\n",
    "sum_num = sum(numbers)\n",
    "print(sum_num/n)"
   ]
  },
  {
   "attachments": {},
   "cell_type": "markdown",
   "metadata": {},
   "source": [
    "구간 합 구하기1 - 백준 11659"
   ]
  },
  {
   "cell_type": "code",
   "execution_count": 15,
   "metadata": {},
   "outputs": [
    {
     "name": "stdout",
     "output_type": "stream",
     "text": [
      "[5, 9, 12, 14, 15]\n",
      "7\n",
      "10\n",
      "14\n"
     ]
    }
   ],
   "source": [
    "# n, m = map(int,input().split())\n",
    "# arr = list(map(int,input().split()))\n",
    "# for k in range(m) :\n",
    "#     i,j = map(int,input().split())\n",
    "#     x = sum(arr[i-1:j])\n",
    "#     print(x) \n",
    "\n",
    "# import sys\n",
    "# input = sys.stdin.readline # 입력속도 개선, 주피터 노트북에서는 실행불가\n",
    "\n",
    "n, m = map(int,input().split())\n",
    "arr = list(map(int,input().split()))\n",
    "temp = 0 \n",
    "prefix_sum = [0]\n",
    "for i in arr :\n",
    "    temp += i\n",
    "    prefix_sum.append(temp)\n",
    "for j in range(m) :\n",
    "    ii, jj = map(int,input().split())\n",
    "    print(prefix_sum[jj]-prefix_sum[ii-1])    "
   ]
  }
 ],
 "metadata": {
  "kernelspec": {
   "display_name": "Python 3",
   "language": "python",
   "name": "python3"
  },
  "language_info": {
   "codemirror_mode": {
    "name": "ipython",
    "version": 3
   },
   "file_extension": ".py",
   "mimetype": "text/x-python",
   "name": "python",
   "nbconvert_exporter": "python",
   "pygments_lexer": "ipython3",
   "version": "3.11.1"
  },
  "orig_nbformat": 4,
  "vscode": {
   "interpreter": {
    "hash": "a3d8f53f1429d27b792a3789224562ddd32c1395c9a9cfbb17b3c19c3b9a493d"
   }
  }
 },
 "nbformat": 4,
 "nbformat_minor": 2
}
