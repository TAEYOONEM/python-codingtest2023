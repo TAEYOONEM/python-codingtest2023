{
 "cells": [
  {
   "attachments": {},
   "cell_type": "markdown",
   "metadata": {},
   "source": [
    "## 트리구조"
   ]
  },
  {
   "cell_type": "code",
   "execution_count": 25,
   "metadata": {},
   "outputs": [],
   "source": [
    "class TreeNode() :\n",
    "    def __init__(self) :\n",
    "        self.left = None\n",
    "        self.data = None\n",
    "        self.right = None"
   ]
  },
  {
   "attachments": {},
   "cell_type": "markdown",
   "metadata": {},
   "source": [
    "### 트리구성"
   ]
  },
  {
   "cell_type": "code",
   "execution_count": 26,
   "metadata": {},
   "outputs": [],
   "source": [
    "root = TreeNode()\n",
    "root.data = \"화사\"\n",
    "\n",
    "node2 = TreeNode()\n",
    "node2.data = \"솔라\"\n",
    "root.left = node2\n",
    "\n",
    "node3 = TreeNode()\n",
    "node3.data = \"문별\"\n",
    "root.right = node3\n",
    "\n",
    "node4 = TreeNode()\n",
    "node4.data = \"휘인\"\n",
    "node2.left = node4\n",
    "\n",
    "node5 = TreeNode()\n",
    "node5.data = \"쯔위\"\n",
    "node2.right = node5\n",
    "\n",
    "node6 = TreeNode()\n",
    "node6.data = \"선미\"\n",
    "node3.left = node6"
   ]
  },
  {
   "cell_type": "code",
   "execution_count": 27,
   "metadata": {},
   "outputs": [
    {
     "name": "stdout",
     "output_type": "stream",
     "text": [
      "화사\n",
      "｜            ＼\n",
      "솔라          문별\n",
      "｜  ＼         ｜\n",
      "휘인   쯔위   선미\n"
     ]
    }
   ],
   "source": [
    "print(root.data)\n",
    "print(\"｜            ＼\")\n",
    "print(root.left.data,'        ',root.right.data)\n",
    "print(\"｜  ＼         ｜\")\n",
    "print(root.left.left.data,' ',root.left.right.data,' ',\n",
    "        root.right.left.data)\n"
   ]
  },
  {
   "attachments": {},
   "cell_type": "markdown",
   "metadata": {},
   "source": [
    "### 트리순회(traversal)\n",
    "\n",
    "#### 전위 순회(preorder), 중위(inorder), 후위(porsorder)"
   ]
  },
  {
   "cell_type": "code",
   "execution_count": 28,
   "metadata": {},
   "outputs": [],
   "source": [
    "def preorder(node) :\n",
    "    if node == None : return\n",
    "\n",
    "    print(node.data, end=\" -> \")\n",
    "    preorder(node.left) # 재귀호출\n",
    "    preorder(node.right) "
   ]
  },
  {
   "cell_type": "code",
   "execution_count": 29,
   "metadata": {},
   "outputs": [
    {
     "name": "stdout",
     "output_type": "stream",
     "text": [
      "화사 -> 솔라 -> 휘인 -> 쯔위 -> 문별 -> 선미 -> "
     ]
    }
   ],
   "source": [
    "preorder(node1)"
   ]
  },
  {
   "cell_type": "code",
   "execution_count": 30,
   "metadata": {},
   "outputs": [],
   "source": [
    "def inorder(node) :\n",
    "    if node == None : return\n",
    "    \n",
    "    inorder(node.left)\n",
    "    print(node.data, end=\" -> \")\n",
    "    inorder(node.right)\n"
   ]
  },
  {
   "cell_type": "code",
   "execution_count": 31,
   "metadata": {},
   "outputs": [
    {
     "name": "stdout",
     "output_type": "stream",
     "text": [
      "휘인 -> 솔라 -> 쯔위 -> 화사 -> 선미 -> 문별 -> "
     ]
    }
   ],
   "source": [
    "inorder(node1)"
   ]
  },
  {
   "cell_type": "code",
   "execution_count": 32,
   "metadata": {},
   "outputs": [],
   "source": [
    "def postorder(node) :\n",
    "    if node == None : return\n",
    "    \n",
    "    postorder(node.left)\n",
    "    postorder(node.right)\n",
    "    print(node.data, end=\" -> \")"
   ]
  },
  {
   "cell_type": "code",
   "execution_count": 33,
   "metadata": {},
   "outputs": [
    {
     "name": "stdout",
     "output_type": "stream",
     "text": [
      "휘인 -> 쯔위 -> 솔라 -> 선미 -> 문별 -> 화사 -> "
     ]
    }
   ],
   "source": [
    "postorder(node1)"
   ]
  }
 ],
 "metadata": {
  "kernelspec": {
   "display_name": "Python 3",
   "language": "python",
   "name": "python3"
  },
  "language_info": {
   "codemirror_mode": {
    "name": "ipython",
    "version": 3
   },
   "file_extension": ".py",
   "mimetype": "text/x-python",
   "name": "python",
   "nbconvert_exporter": "python",
   "pygments_lexer": "ipython3",
   "version": "3.11.1"
  },
  "orig_nbformat": 4,
  "vscode": {
   "interpreter": {
    "hash": "a3d8f53f1429d27b792a3789224562ddd32c1395c9a9cfbb17b3c19c3b9a493d"
   }
  }
 },
 "nbformat": 4,
 "nbformat_minor": 2
}
