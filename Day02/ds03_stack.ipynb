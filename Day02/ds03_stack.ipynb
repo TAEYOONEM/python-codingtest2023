{
 "cells": [
  {
   "attachments": {},
   "cell_type": "markdown",
   "metadata": {},
   "source": [
    "## 스택 기본"
   ]
  },
  {
   "cell_type": "code",
   "execution_count": 27,
   "metadata": {},
   "outputs": [],
   "source": [
    "SIZE = 15\n",
    "stack = [None for _ in range(SIZE)]\n",
    "# stack = [None] * 5\n",
    "top = -1 # 초기값 바닥"
   ]
  },
  {
   "attachments": {},
   "cell_type": "markdown",
   "metadata": {},
   "source": [
    "### Push"
   ]
  },
  {
   "cell_type": "code",
   "execution_count": 28,
   "metadata": {},
   "outputs": [],
   "source": [
    "top += 1\n",
    "stack[top] = '커피'\n",
    "top += 1\n",
    "stack[top] = '녹차'\n",
    "top += 1\n",
    "stack[top] = '꿀물'"
   ]
  },
  {
   "cell_type": "code",
   "execution_count": 29,
   "metadata": {},
   "outputs": [
    {
     "data": {
      "text/plain": [
       "['커피',\n",
       " '녹차',\n",
       " '꿀물',\n",
       " None,\n",
       " None,\n",
       " None,\n",
       " None,\n",
       " None,\n",
       " None,\n",
       " None,\n",
       " None,\n",
       " None,\n",
       " None,\n",
       " None,\n",
       " None]"
      ]
     },
     "execution_count": 29,
     "metadata": {},
     "output_type": "execute_result"
    }
   ],
   "source": [
    "stack"
   ]
  },
  {
   "cell_type": "code",
   "execution_count": 30,
   "metadata": {},
   "outputs": [
    {
     "name": "stdout",
     "output_type": "stream",
     "text": [
      "---스택상태----\n",
      "14None\n",
      "13None\n",
      "12None\n",
      "11None\n",
      "10None\n",
      "9None\n",
      "8None\n",
      "7None\n",
      "6None\n",
      "5None\n",
      "4None\n",
      "3None\n",
      "2꿀물\n",
      "1녹차\n",
      "0커피\n"
     ]
    }
   ],
   "source": [
    "print('---스택상태----')\n",
    "for i in range(len(stack)-1, -1,-1) :\n",
    "    print(f'{i}{stack[i]}')"
   ]
  },
  {
   "cell_type": "code",
   "execution_count": 31,
   "metadata": {},
   "outputs": [
    {
     "data": {
      "text/plain": [
       "2"
      ]
     },
     "execution_count": 31,
     "metadata": {},
     "output_type": "execute_result"
    }
   ],
   "source": [
    "top"
   ]
  },
  {
   "cell_type": "code",
   "execution_count": 32,
   "metadata": {},
   "outputs": [
    {
     "name": "stdout",
     "output_type": "stream",
     "text": [
      "pop -> 꿀물\n",
      "---스택상태----\n",
      "14None\n",
      "13None\n",
      "12None\n",
      "11None\n",
      "10None\n",
      "9None\n",
      "8None\n",
      "7None\n",
      "6None\n",
      "5None\n",
      "4None\n",
      "3None\n",
      "2None\n",
      "1녹차\n",
      "0커피\n"
     ]
    }
   ],
   "source": [
    "data = stack[top]\n",
    "stack[top] = None\n",
    "top -= 1\n",
    "print(f'pop -> {data}')\n",
    "print('---스택상태----')\n",
    "for i in range(len(stack)-1, -1,-1) :\n",
    "    print(f'{i} {stack[i]}')"
   ]
  },
  {
   "cell_type": "code",
   "execution_count": 33,
   "metadata": {},
   "outputs": [
    {
     "name": "stdout",
     "output_type": "stream",
     "text": [
      "pop -> 녹차\n",
      "---스택상태----\n",
      "14 None\n",
      "13 None\n",
      "12 None\n",
      "11 None\n",
      "10 None\n",
      "9 None\n",
      "8 None\n",
      "7 None\n",
      "6 None\n",
      "5 None\n",
      "4 None\n",
      "3 None\n",
      "2 None\n",
      "1 None\n",
      "0 커피\n"
     ]
    }
   ],
   "source": [
    "data = stack[top]\n",
    "stack[top] = None\n",
    "top -= 1\n",
    "print(f'pop -> {data}')\n",
    "print('---스택상태----')\n",
    "for i in range(len(stack)-1, -1,-1) :\n",
    "    print(f'{i} {stack[i]}')"
   ]
  },
  {
   "cell_type": "code",
   "execution_count": 34,
   "metadata": {},
   "outputs": [
    {
     "name": "stdout",
     "output_type": "stream",
     "text": [
      "pop -> 커피\n",
      "---스택상태----\n",
      "14None\n",
      "13None\n",
      "12None\n",
      "11None\n",
      "10None\n",
      "9None\n",
      "8None\n",
      "7None\n",
      "6None\n",
      "5None\n",
      "4None\n",
      "3None\n",
      "2None\n",
      "1None\n",
      "0None\n"
     ]
    }
   ],
   "source": [
    "data = stack[top]\n",
    "stack[top] = None\n",
    "top -= 1\n",
    "print(f'pop -> {data}')\n",
    "print('---스택상태----')\n",
    "for i in range(len(stack)-1, -1,-1) :\n",
    "    print(f'{i} {stack[i]}')"
   ]
  },
  {
   "cell_type": "code",
   "execution_count": 35,
   "metadata": {},
   "outputs": [
    {
     "name": "stdout",
     "output_type": "stream",
     "text": [
      "더이상 데이터가 없습니다.\n"
     ]
    }
   ],
   "source": [
    "if top == -1 : \n",
    "    print('더이상 데이터가 없습니다.')\n",
    "else :\n",
    "    pass"
   ]
  },
  {
   "cell_type": "code",
   "execution_count": 36,
   "metadata": {},
   "outputs": [],
   "source": [
    "stack[top] # underflow"
   ]
  }
 ],
 "metadata": {
  "kernelspec": {
   "display_name": "Python 3",
   "language": "python",
   "name": "python3"
  },
  "language_info": {
   "codemirror_mode": {
    "name": "ipython",
    "version": 3
   },
   "file_extension": ".py",
   "mimetype": "text/x-python",
   "name": "python",
   "nbconvert_exporter": "python",
   "pygments_lexer": "ipython3",
   "version": "3.11.1"
  },
  "orig_nbformat": 4,
  "vscode": {
   "interpreter": {
    "hash": "a3d8f53f1429d27b792a3789224562ddd32c1395c9a9cfbb17b3c19c3b9a493d"
   }
  }
 },
 "nbformat": 4,
 "nbformat_minor": 2
}
