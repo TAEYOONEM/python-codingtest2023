{
 "cells": [
  {
   "attachments": {},
   "cell_type": "markdown",
   "metadata": {},
   "source": [
    "## 1번 문제\n",
    "\n",
    "프로그래머스 Lev1. 카드 뭉치 "
   ]
  },
  {
   "cell_type": "code",
   "execution_count": 11,
   "metadata": {},
   "outputs": [
    {
     "name": "stdout",
     "output_type": "stream",
     "text": [
      "Yes\n",
      "No\n"
     ]
    }
   ],
   "source": [
    "def solution1(cards1, cards2, goal):\n",
    "    c1 = 0\n",
    "    c2 = 0\n",
    "    for i in goal :\n",
    "        if cards1.index(i)  == c1 if i in cards1 else None :\n",
    "            c1 += 1\n",
    "        elif cards2.index(i)  == c2 if i in cards2 else None :\n",
    "            c2 += 1           \n",
    "        else :            \n",
    "            return \"No\"\n",
    "    return \"Yes\"\n",
    "\n",
    "cards1 = [\"i\", \"drink\", \"water\"]\n",
    "cards2 = [\"want\", \"to\"]\n",
    "goal = [\"i\", \"want\", \"to\", \"drink\", \"water\"]\n",
    "\n",
    "print(solution1(cards1, cards2, goal)) # return Yes\n",
    "\n",
    "cards1 = [\"i\", \"water\", \"drink\"]\n",
    "cards2 = [\"want\", \"to\"]\n",
    "goal = [\"i\", \"want\", \"to\", \"drink\", \"water\"]\n",
    "\n",
    "print(solution1(cards1, cards2, goal)) # return No"
   ]
  },
  {
   "attachments": {},
   "cell_type": "markdown",
   "metadata": {},
   "source": [
    "## 2번 문제\n",
    "\n",
    "프로그래머스 Lev1. 체육복"
   ]
  },
  {
   "cell_type": "code",
   "execution_count": 28,
   "metadata": {},
   "outputs": [
    {
     "name": "stdout",
     "output_type": "stream",
     "text": [
      "5\n",
      "4\n",
      "2\n"
     ]
    }
   ],
   "source": [
    "def solution2(n, lost, reserve):\n",
    "    answer = 0\n",
    "    student = [1] * n\n",
    "    cnt = 0\n",
    "    rl = 0\n",
    "\n",
    "    for i in lost :\n",
    "        student[i-1] -= 1 \n",
    "    for i in reserve :\n",
    "        student[i-1] += 1\n",
    "\n",
    "    for i in lost :\n",
    "        for j in reserve :\n",
    "            if i == j :\n",
    "                rl += 1\n",
    "\n",
    "    \n",
    "    for i in range(n-1) :\n",
    "        if abs(student[i] - student[i+1]) >= 2:\n",
    "            student[i] = 1\n",
    "            student[i+1] = 1    \n",
    "            cnt += 1\n",
    "\n",
    "    answer = n- (len(lost)-rl) + cnt\n",
    "\n",
    "    return answer\n",
    "\n",
    "n = 5\n",
    "lost = [2, 4]\n",
    "reserve = [1,3,5]\n",
    "\n",
    "print(solution2(n, lost, reserve)) # return 5\n",
    "\n",
    "\n",
    "n = 5\n",
    "lost = [2, 4]\n",
    "reserve = [3]\n",
    "\n",
    "print(solution2(n, lost, reserve)) # return 4\n",
    "\n",
    "\n",
    "n = 3\n",
    "lost = [3]\n",
    "reserve = [1]\n",
    "\n",
    "print(solution2(n, lost, reserve)) # return 2"
   ]
  }
 ],
 "metadata": {
  "kernelspec": {
   "display_name": "Python 3",
   "language": "python",
   "name": "python3"
  },
  "language_info": {
   "codemirror_mode": {
    "name": "ipython",
    "version": 3
   },
   "file_extension": ".py",
   "mimetype": "text/x-python",
   "name": "python",
   "nbconvert_exporter": "python",
   "pygments_lexer": "ipython3",
   "version": "3.11.0"
  },
  "orig_nbformat": 4,
  "vscode": {
   "interpreter": {
    "hash": "d933a66532e3e169431ebd423a37e0f81562a84623bf4f96949263056da7a90f"
   }
  }
 },
 "nbformat": 4,
 "nbformat_minor": 2
}
